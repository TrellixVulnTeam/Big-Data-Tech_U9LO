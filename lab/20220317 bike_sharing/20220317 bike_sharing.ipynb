{
  "cells": [
    {
      "cell_type": "code",
      "execution_count": 1,
      "metadata": {
        "id": "G_zRXrrOAINX"
      },
      "outputs": [],
      "source": [
        "import datetime\n",
        "import requests\n",
        "import json"
      ]
    },
    {
      "cell_type": "markdown",
      "metadata": {
        "id": "76zgHwF1AK5q"
      },
      "source": [
        "# How to get content of a resourse?\n",
        "\n",
        "Using Insomnia / Postman allows you to obtain automatically a snipped of code that, from a GET request, returns the content of a page"
      ]
    },
    {
      "cell_type": "code",
      "execution_count": 2,
      "metadata": {
        "id": "lixkzr0kALWv"
      },
      "outputs": [],
      "source": [
        "url = \"https://os.smartcommunitylab.it/core.mobility/bikesharing/trento\"\n",
        "\n",
        "payload = \"\"\n",
        "response = requests.request(\"GET\", url, data=payload)\n",
        "\n",
        "\n",
        "bike_stations = json.loads(response.text)"
      ]
    },
    {
      "cell_type": "markdown",
      "metadata": {},
      "source": [
        "Previewing an entry of the data"
      ]
    },
    {
      "cell_type": "code",
      "execution_count": 8,
      "metadata": {
        "id": "GGaImjmmBC_r"
      },
      "outputs": [
        {
          "data": {
            "text/plain": [
              "{'name': 'Baldresca',\n",
              " 'address': 'via Della Roggia',\n",
              " 'id': 'Baldresca - Rovereto',\n",
              " 'bikes': 2,\n",
              " 'slots': 4,\n",
              " 'totalSlots': 6,\n",
              " 'position': [45.8805278, 11.02875],\n",
              " 'city': 'rovereto',\n",
              " 'timestamp': '2022-03-18_14:18:20'}"
            ]
          },
          "execution_count": 8,
          "metadata": {},
          "output_type": "execute_result"
        }
      ],
      "source": [
        "bike_stations[0]"
      ]
    },
    {
      "cell_type": "markdown",
      "metadata": {
        "id": "18vXSJriA9dD"
      },
      "source": [
        "# Slide Challenges\n",
        "## How many total slots there are?"
      ]
    },
    {
      "cell_type": "code",
      "execution_count": 4,
      "metadata": {
        "colab": {
          "base_uri": "https://localhost:8080/"
        },
        "id": "B5hbT8VKA9rW",
        "outputId": "1259a779-6fcd-44ed-f5a4-3200345aa002"
      },
      "outputs": [
        {
          "name": "stdout",
          "output_type": "stream",
          "text": [
            "910\n",
            "910\n"
          ]
        }
      ],
      "source": [
        "tot_slots = 0\n",
        "for idx, station in enumerate(bike_stations):\n",
        "    tot_slots += station[\"totalSlots\"]\n",
        "\n",
        "print(tot_slots)\n",
        "\n",
        "# alternative #\n",
        "total_slots_list = [station[\"totalSlots\"] for station in bike_stations]\n",
        "\n",
        "print(sum(total_slots_list))\n"
      ]
    },
    {
      "cell_type": "markdown",
      "metadata": {
        "id": "wJIyBvHjBlpb"
      },
      "source": [
        "## Add timestamp and city to the dataset\n",
        "Here we prefer to attach timestamp and city to each entry, instead of putting the data in a separate place"
      ]
    },
    {
      "cell_type": "code",
      "execution_count": 5,
      "metadata": {
        "colab": {
          "base_uri": "https://localhost:8080/"
        },
        "id": "mR7lnO_wBjWS",
        "outputId": "13d9e17c-4822-4cd0-9179-11492f308654"
      },
      "outputs": [
        {
          "name": "stdout",
          "output_type": "stream",
          "text": [
            "Preview of an entry: {'name': '20.13 Quercia', 'address': 'via Palestrina 3', 'id': '20.13 Quercia - Trento', 'bikes': 2, 'slots': 4, 'totalSlots': 6, 'position': [45.90013008440864, 11.037017111949822], 'city': 'trento', 'timestamp': '2022-03-18, 14:16:16'}\n"
          ]
        }
      ],
      "source": [
        "#NOTE: This is a design choice, are you sure you want to format it like that?\n",
        "ts = datetime.datetime.now().strftime('%Y-%m-%d, %H:%M:%S') \n",
        "city = url.split(\"/\")[-1]\n",
        "\n",
        "for station in bike_stations:\n",
        "    station[\"city\"] = city\n",
        "    # alternative\n",
        "    #station[\"city\"] = station[\"id\"].split(\" - \")[1]\n",
        "\n",
        "    station[\"timestamp\"] = ts\n",
        "\n",
        "print(f\"Preview of an entry: {bike_stations[70]}\")\n",
        "\n",
        "with open(f\"./fetched_data/stations_{city}.json\", \"w\") as f:\n",
        "    json.dump(bike_stations, f, indent=2)"
      ]
    },
    {
      "cell_type": "markdown",
      "metadata": {
        "id": "NUKxfVPICUut"
      },
      "source": [
        "Note that here we are getting the city directly from the data, it might be a not good idea as we are relying on the current representation of the data, what if it changes? What if the standard is not kept homogeneously within the source (ex. some city might be written in caps)\n",
        "\n",
        "\n",
        "\n",
        "Redoing the above point by considering more cities"
      ]
    },
    {
      "cell_type": "code",
      "execution_count": 7,
      "metadata": {
        "id": "-J3-JY3rCrOu"
      },
      "outputs": [],
      "source": [
        "scrape_dict = {\n",
        "    \"trento\": \"https://os.smartcommunitylab.it/core.mobility/bikesharing/trento\",\n",
        "    \"rovereto\": \"https://os.smartcommunitylab.it/core.mobility/bikesharing/rovereto\"\n",
        "}\n",
        "\n",
        "for city, url in scrape_dict.items():\n",
        "  ts = datetime.datetime.now().strftime('%Y-%m-%d_%H:%M:%S') \n",
        "\n",
        "  payload = \"\"\n",
        "  response = requests.request(\"GET\", url, data=payload)\n",
        "  bike_stations = json.loads(response.text)\n",
        "\n",
        "\n",
        "  for station in bike_stations:\n",
        "      station[\"city\"] = city\n",
        "      station[\"timestamp\"] = ts\n",
        "\n",
        "  with open(f\"./fetched_data/{ts}_stations_{city}.json\", \"w\") as f: #this way we can know the city and the chronological time\n",
        "      json.dump(bike_stations, f, indent=2)"
      ]
    }
  ],
  "metadata": {
    "colab": {
      "collapsed_sections": [],
      "name": "20220317 lab.ipynb",
      "provenance": []
    },
    "kernelspec": {
      "display_name": "Python 3",
      "name": "python3"
    },
    "language_info": {
      "codemirror_mode": {
        "name": "ipython",
        "version": 3
      },
      "file_extension": ".py",
      "mimetype": "text/x-python",
      "name": "python",
      "nbconvert_exporter": "python",
      "pygments_lexer": "ipython3",
      "version": "3.9.7"
    }
  },
  "nbformat": 4,
  "nbformat_minor": 0
}
